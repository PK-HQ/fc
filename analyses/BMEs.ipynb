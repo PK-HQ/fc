{
 "cells": [
  {
   "cell_type": "markdown",
   "metadata": {},
   "source": [
    "# Importing the data"
   ]
  },
  {
   "cell_type": "code",
   "execution_count": 1,
   "metadata": {
    "collapsed": false
   },
   "outputs": [],
   "source": [
    "%matplotlib inline\n",
    "import numpy as np\n",
    "import pandas as pd\n",
    "import bambi, os, glob\n",
    "import statsmodels as sm\n",
    "import statsmodels.formula.api as smf"
   ]
  },
  {
   "cell_type": "code",
   "execution_count": 2,
   "metadata": {
    "collapsed": false
   },
   "outputs": [
    {
     "name": "stdout",
     "output_type": "stream",
     "text": [
      "/Users/egor/Dropbox/Projects/fc/fc/data/usable/extracted\n",
      "FC_cfs_sub01_20160915_1402_clean.csv\n",
      "number of subjects: 15\n",
      "current subject file number = 0\n",
      "current subject file number = 1\n",
      "current subject file number = 2\n",
      "current subject file number = 3\n",
      "current subject file number = 4\n",
      "current subject file number = 5\n",
      "current subject file number = 6\n",
      "current subject file number = 7\n",
      "current subject file number = 8\n",
      "current subject file number = 9\n",
      "current subject file number = 10\n",
      "current subject file number = 11\n",
      "current subject file number = 12\n",
      "current subject file number = 13\n",
      "current subject file number = 14\n",
      "(3600, 15)\n"
     ]
    },
    {
     "data": {
      "text/html": [
       "<div style=\"max-height:1000px;max-width:1500px;overflow:auto;\">\n",
       "<table border=\"1\" class=\"dataframe\">\n",
       "  <thead>\n",
       "    <tr style=\"text-align: right;\">\n",
       "      <th></th>\n",
       "      <th>subjId</th>\n",
       "      <th>domEyeR</th>\n",
       "      <th>threshStHi</th>\n",
       "      <th>threshStLo</th>\n",
       "      <th>thresh</th>\n",
       "      <th>trialN</th>\n",
       "      <th>sentId</th>\n",
       "      <th>sentPx</th>\n",
       "      <th>congr</th>\n",
       "      <th>fam</th>\n",
       "      <th>locTop</th>\n",
       "      <th>cued</th>\n",
       "      <th>crct</th>\n",
       "      <th>broken</th>\n",
       "      <th>st</th>\n",
       "    </tr>\n",
       "  </thead>\n",
       "  <tbody>\n",
       "    <tr>\n",
       "      <th>0</th>\n",
       "      <td> 1</td>\n",
       "      <td> 1</td>\n",
       "      <td> 0.24862</td>\n",
       "      <td> 0.2398</td>\n",
       "      <td> 0.24421</td>\n",
       "      <td> 1</td>\n",
       "      <td> 10</td>\n",
       "      <td> 124</td>\n",
       "      <td> 1</td>\n",
       "      <td> 0</td>\n",
       "      <td> 0</td>\n",
       "      <td> 0</td>\n",
       "      <td> 1</td>\n",
       "      <td> 1</td>\n",
       "      <td> 1.1426</td>\n",
       "    </tr>\n",
       "    <tr>\n",
       "      <th>1</th>\n",
       "      <td> 1</td>\n",
       "      <td> 1</td>\n",
       "      <td> 0.24862</td>\n",
       "      <td> 0.2398</td>\n",
       "      <td> 0.24421</td>\n",
       "      <td> 2</td>\n",
       "      <td> 15</td>\n",
       "      <td> 121</td>\n",
       "      <td> 0</td>\n",
       "      <td> 1</td>\n",
       "      <td> 1</td>\n",
       "      <td> 1</td>\n",
       "      <td> 1</td>\n",
       "      <td> 1</td>\n",
       "      <td> 1.7793</td>\n",
       "    </tr>\n",
       "    <tr>\n",
       "      <th>2</th>\n",
       "      <td> 1</td>\n",
       "      <td> 1</td>\n",
       "      <td> 0.24862</td>\n",
       "      <td> 0.2398</td>\n",
       "      <td> 0.24421</td>\n",
       "      <td> 3</td>\n",
       "      <td> 28</td>\n",
       "      <td> 100</td>\n",
       "      <td> 0</td>\n",
       "      <td> 0</td>\n",
       "      <td> 0</td>\n",
       "      <td> 0</td>\n",
       "      <td> 1</td>\n",
       "      <td> 1</td>\n",
       "      <td> 1.3451</td>\n",
       "    </tr>\n",
       "    <tr>\n",
       "      <th>3</th>\n",
       "      <td> 1</td>\n",
       "      <td> 1</td>\n",
       "      <td> 0.24862</td>\n",
       "      <td> 0.2398</td>\n",
       "      <td> 0.24421</td>\n",
       "      <td> 4</td>\n",
       "      <td> 28</td>\n",
       "      <td> 100</td>\n",
       "      <td> 0</td>\n",
       "      <td> 0</td>\n",
       "      <td> 1</td>\n",
       "      <td> 1</td>\n",
       "      <td> 1</td>\n",
       "      <td> 1</td>\n",
       "      <td> 1.4134</td>\n",
       "    </tr>\n",
       "    <tr>\n",
       "      <th>4</th>\n",
       "      <td> 1</td>\n",
       "      <td> 1</td>\n",
       "      <td> 0.24862</td>\n",
       "      <td> 0.2398</td>\n",
       "      <td> 0.24421</td>\n",
       "      <td> 5</td>\n",
       "      <td>  2</td>\n",
       "      <td> 133</td>\n",
       "      <td> 0</td>\n",
       "      <td> 1</td>\n",
       "      <td> 0</td>\n",
       "      <td> 0</td>\n",
       "      <td> 1</td>\n",
       "      <td> 1</td>\n",
       "      <td> 1.5021</td>\n",
       "    </tr>\n",
       "  </tbody>\n",
       "</table>\n",
       "</div>"
      ],
      "text/plain": [
       "   subjId  domEyeR  threshStHi  threshStLo   thresh  trialN  sentId  sentPx  \\\n",
       "0       1        1     0.24862      0.2398  0.24421       1      10     124   \n",
       "1       1        1     0.24862      0.2398  0.24421       2      15     121   \n",
       "2       1        1     0.24862      0.2398  0.24421       3      28     100   \n",
       "3       1        1     0.24862      0.2398  0.24421       4      28     100   \n",
       "4       1        1     0.24862      0.2398  0.24421       5       2     133   \n",
       "\n",
       "   congr  fam  locTop  cued  crct  broken      st  \n",
       "0      1    0       0     0     1       1  1.1426  \n",
       "1      0    1       1     1     1       1  1.7793  \n",
       "2      0    0       0     0     1       1  1.3451  \n",
       "3      0    0       1     1     1       1  1.4134  \n",
       "4      0    1       0     0     1       1  1.5021  "
      ]
     },
     "execution_count": 2,
     "metadata": {},
     "output_type": "execute_result"
    }
   ],
   "source": [
    "dataDir = os.path.abspath(os.path.join(os.getcwd(), '..', 'data/usable/extracted'))\n",
    "print dataDir\n",
    "allSubjFilePaths = glob.glob(dataDir + os.sep + 'FC_cfs*clean.csv')\n",
    "print os.path.basename(allSubjFilePaths[0])\n",
    "subjNum = len(allSubjFilePaths)\n",
    "print 'number of subjects: ' + str(subjNum)\n",
    "df = pd.DataFrame()\n",
    "for curSubjFileNum in range(subjNum):\n",
    "    print 'current subject file number = ' + str(curSubjFileNum)\n",
    "    ds = pd.read_csv(allSubjFilePaths[curSubjFileNum])\n",
    "    ds.columns = ['subjId', 'domEyeR', 'threshStHi', 'threshStLo', 'thresh', 'trialN',\n",
    "                  'sentId', 'sentPx', 'congr', 'fam', 'locTop', 'cued', 'crct', 'broken', 'st']\n",
    "    df = df.append(ds)\n",
    "print df.shape\n",
    "df.head(5)"
   ]
  },
  {
   "cell_type": "markdown",
   "metadata": {},
   "source": [
    "## Centered data set"
   ]
  },
  {
   "cell_type": "code",
   "execution_count": 3,
   "metadata": {
    "collapsed": true
   },
   "outputs": [],
   "source": [
    "dfc = df\n",
    "dfc.ix[dfc['cued']==0,'cued'] = -1\n",
    "dfc.ix[dfc['fam']==0,'fam'] = -1\n",
    "dfc.ix[dfc['congr']==0,'congr'] = -1"
   ]
  },
  {
   "cell_type": "markdown",
   "metadata": {},
   "source": [
    "# Statistical models"
   ]
  },
  {
   "cell_type": "markdown",
   "metadata": {},
   "source": [
    "## Mixed linear regression"
   ]
  },
  {
   "cell_type": "code",
   "execution_count": 4,
   "metadata": {
    "collapsed": false
   },
   "outputs": [
    {
     "name": "stderr",
     "output_type": "stream",
     "text": [
      "/Users/egor/Library/Enthought/Canopy_32bit/User/lib/python2.7/site-packages/statsmodels/base/model.py:466: ConvergenceWarning: Maximum Likelihood optimization failed to converge. Check mle_retvals\n",
      "  \"Check mle_retvals\", ConvergenceWarning)\n"
     ]
    },
    {
     "name": "stdout",
     "output_type": "stream",
     "text": [
      "               Mixed Linear Model Regression Results\n",
      "===================================================================\n",
      "Model:                 MixedLM    Dependent Variable:    st        \n",
      "No. Observations:      3600       Method:                REML      \n",
      "No. Groups:            15         Scale:                 0.2837    \n",
      "Min. group size:       240        Likelihood:            -2978.6575\n",
      "Max. group size:       240        Converged:             Yes       \n",
      "Mean group size:       240.0                                       \n",
      "-------------------------------------------------------------------\n",
      "                         Coef.  Std.Err.   z    P>|z| [0.025 0.975]\n",
      "-------------------------------------------------------------------\n",
      "Intercept                 1.496    0.138 10.850 0.000  1.226  1.766\n",
      "congr                    -0.003    0.009 -0.353 0.724 -0.021  0.014\n",
      "fam                       0.004    0.009  0.484 0.628 -0.013  0.022\n",
      "congr:fam                 0.017    0.009  1.883 0.060 -0.001  0.034\n",
      "cued                     -0.030    0.009 -3.396 0.001 -0.048 -0.013\n",
      "congr:cued               -0.012    0.009 -1.347 0.178 -0.029  0.005\n",
      "fam:cued                 -0.001    0.009 -0.156 0.876 -0.019  0.016\n",
      "congr:fam:cued            0.003    0.009  0.337 0.736 -0.014  0.020\n",
      "Intercept RE              0.284                                    \n",
      "Intercept RE x sentId RE  0.000                                    \n",
      "sentId RE                 0.284                                    \n",
      "===================================================================\n",
      "\n"
     ]
    }
   ],
   "source": [
    "md = smf.mixedlm('st ~ congr * fam * cued', dfc, re_formula='sentId', groups=dfc['subjId'])\n",
    "mdf = md.fit()\n",
    "print(mdf.summary())"
   ]
  },
  {
   "cell_type": "markdown",
   "metadata": {},
   "source": [
    "## Running the Bayesian mixed model"
   ]
  },
  {
   "cell_type": "code",
   "execution_count": 5,
   "metadata": {
    "collapsed": false
   },
   "outputs": [
    {
     "ename": "TypeError",
     "evalue": "get_dummies() got an unexpected keyword argument 'drop_first'",
     "output_type": "error",
     "traceback": [
      "\u001b[0;31m---------------------------------------------------------------------------\u001b[0m",
      "\u001b[0;31mTypeError\u001b[0m                                 Traceback (most recent call last)",
      "\u001b[0;32m<ipython-input-5-51e556312f3a>\u001b[0m in \u001b[0;36m<module>\u001b[0;34m()\u001b[0m\n\u001b[1;32m      1\u001b[0m \u001b[0mbmd\u001b[0m \u001b[0;34m=\u001b[0m \u001b[0mbambi\u001b[0m\u001b[0;34m.\u001b[0m\u001b[0mModel\u001b[0m\u001b[0;34m(\u001b[0m\u001b[0mdf\u001b[0m\u001b[0;34m)\u001b[0m\u001b[0;34m\u001b[0m\u001b[0m\n\u001b[1;32m      2\u001b[0m modelFitted = bmd.fit('st ~ congr * fam * cued', samples=200,\n\u001b[0;32m----> 3\u001b[0;31m                         random=['1|subjId'], njobs=1)\n\u001b[0m\u001b[1;32m      4\u001b[0m \u001b[0mmodelFitted\u001b[0m\u001b[0;34m.\u001b[0m\u001b[0mplot\u001b[0m\u001b[0;34m(\u001b[0m\u001b[0mburn_in\u001b[0m\u001b[0;34m=\u001b[0m\u001b[0;36m50\u001b[0m\u001b[0;34m)\u001b[0m\u001b[0;34m\u001b[0m\u001b[0m\n",
      "\u001b[0;32m/Users/egor/Library/Enthought/Canopy_32bit/User/lib/python2.7/site-packages/bambi/models.pyc\u001b[0m in \u001b[0;36mfit\u001b[0;34m(self, fixed, random, priors, family, link, run, categorical, **kwargs)\u001b[0m\n\u001b[1;32m    212\u001b[0m             self.add_formula(fixed=fixed, random=random, priors=priors,\n\u001b[1;32m    213\u001b[0m                              \u001b[0mfamily\u001b[0m\u001b[0;34m=\u001b[0m\u001b[0mfamily\u001b[0m\u001b[0;34m,\u001b[0m \u001b[0mlink\u001b[0m\u001b[0;34m=\u001b[0m\u001b[0mlink\u001b[0m\u001b[0;34m,\u001b[0m \u001b[0mcategorical\u001b[0m\u001b[0;34m=\u001b[0m\u001b[0mcategorical\u001b[0m\u001b[0;34m,\u001b[0m\u001b[0;34m\u001b[0m\u001b[0m\n\u001b[0;32m--> 214\u001b[0;31m                              append=False)\n\u001b[0m\u001b[1;32m    215\u001b[0m         \u001b[0;34m''' Run the BackEnd to fit the model. '''\u001b[0m\u001b[0;34m\u001b[0m\u001b[0m\n\u001b[1;32m    216\u001b[0m         \u001b[0;32mif\u001b[0m \u001b[0mrun\u001b[0m\u001b[0;34m:\u001b[0m\u001b[0;34m\u001b[0m\u001b[0m\n",
      "\u001b[0;32m/Users/egor/Library/Enthought/Canopy_32bit/User/lib/python2.7/site-packages/bambi/models.pyc\u001b[0m in \u001b[0;36madd_formula\u001b[0;34m(self, fixed, random, priors, family, link, categorical, append)\u001b[0m\n\u001b[1;32m    339\u001b[0m \u001b[0;34m\u001b[0m\u001b[0m\n\u001b[1;32m    340\u001b[0m                 \u001b[0mprior\u001b[0m \u001b[0;34m=\u001b[0m \u001b[0mpriors\u001b[0m\u001b[0;34m.\u001b[0m\u001b[0mpop\u001b[0m\u001b[0;34m(\u001b[0m\u001b[0mlabel\u001b[0m\u001b[0;34m,\u001b[0m \u001b[0mpriors\u001b[0m\u001b[0;34m.\u001b[0m\u001b[0mpop\u001b[0m\u001b[0;34m(\u001b[0m\u001b[0;34m'random'\u001b[0m\u001b[0;34m,\u001b[0m \u001b[0mNone\u001b[0m\u001b[0;34m)\u001b[0m\u001b[0;34m)\u001b[0m\u001b[0;34m\u001b[0m\u001b[0m\n\u001b[0;32m--> 341\u001b[0;31m                 \u001b[0mself\u001b[0m\u001b[0;34m.\u001b[0m\u001b[0madd_term\u001b[0m\u001b[0;34m(\u001b[0m\u001b[0mvariable\u001b[0m\u001b[0;34m=\u001b[0m\u001b[0mvariable\u001b[0m\u001b[0;34m,\u001b[0m \u001b[0mlabel\u001b[0m\u001b[0;34m=\u001b[0m\u001b[0mlabel\u001b[0m\u001b[0;34m,\u001b[0m \u001b[0;34m**\u001b[0m\u001b[0mkwargs\u001b[0m\u001b[0;34m)\u001b[0m\u001b[0;34m\u001b[0m\u001b[0m\n\u001b[0m\u001b[1;32m    342\u001b[0m \u001b[0;34m\u001b[0m\u001b[0m\n\u001b[1;32m    343\u001b[0m     def add_y(self, variable, prior=None, family='gaussian', link=None, *args,\n",
      "\u001b[0;32m/Users/egor/Library/Enthought/Canopy_32bit/User/lib/python2.7/site-packages/bambi/models.pyc\u001b[0m in \u001b[0;36madd_term\u001b[0;34m(self, variable, data, label, categorical, random, over, prior, drop_first)\u001b[0m\n\u001b[1;32m    454\u001b[0m \u001b[0;34m\u001b[0m\u001b[0m\n\u001b[1;32m    455\u001b[0m         \u001b[0;32mif\u001b[0m \u001b[0mcategorical\u001b[0m\u001b[0;34m:\u001b[0m\u001b[0;34m\u001b[0m\u001b[0m\n\u001b[0;32m--> 456\u001b[0;31m             \u001b[0mX\u001b[0m \u001b[0;34m=\u001b[0m \u001b[0mpd\u001b[0m\u001b[0;34m.\u001b[0m\u001b[0mget_dummies\u001b[0m\u001b[0;34m(\u001b[0m\u001b[0mdata\u001b[0m\u001b[0;34m[\u001b[0m\u001b[0mvariable\u001b[0m\u001b[0;34m]\u001b[0m\u001b[0;34m,\u001b[0m \u001b[0mdrop_first\u001b[0m\u001b[0;34m=\u001b[0m\u001b[0mdrop_first\u001b[0m\u001b[0;34m)\u001b[0m\u001b[0;34m\u001b[0m\u001b[0m\n\u001b[0m\u001b[1;32m    457\u001b[0m         \u001b[0;32melif\u001b[0m \u001b[0mvariable\u001b[0m \u001b[0;32min\u001b[0m \u001b[0mdata\u001b[0m\u001b[0;34m.\u001b[0m\u001b[0mcolumns\u001b[0m\u001b[0;34m:\u001b[0m\u001b[0;34m\u001b[0m\u001b[0m\n\u001b[1;32m    458\u001b[0m             \u001b[0mX\u001b[0m \u001b[0;34m=\u001b[0m \u001b[0mdata\u001b[0m\u001b[0;34m[\u001b[0m\u001b[0;34m[\u001b[0m\u001b[0mvariable\u001b[0m\u001b[0;34m]\u001b[0m\u001b[0;34m]\u001b[0m\u001b[0;34m\u001b[0m\u001b[0m\n",
      "\u001b[0;31mTypeError\u001b[0m: get_dummies() got an unexpected keyword argument 'drop_first'"
     ]
    }
   ],
   "source": [
    "bmd = bambi.Model(df)\n",
    "modelFitted = bmd.fit('st ~ congr * fam * cued', samples=200,\n",
    "                        random=['1|subjId'], njobs=1)\n",
    "modelFitted.plot(burn_in=50)"
   ]
  }
 ],
 "metadata": {
  "anaconda-cloud": {},
  "kernelspec": {
   "display_name": "Python 2",
   "language": "python",
   "name": "python2"
  },
  "language_info": {
   "codemirror_mode": {
    "name": "ipython",
    "version": 2
   },
   "file_extension": ".py",
   "mimetype": "text/x-python",
   "name": "python",
   "nbconvert_exporter": "python",
   "pygments_lexer": "ipython2",
   "version": "2.7.6"
  }
 },
 "nbformat": 4,
 "nbformat_minor": 1
}
