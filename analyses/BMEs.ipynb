{
 "cells": [
  {
   "cell_type": "markdown",
   "metadata": {},
   "source": [
    "# Importing the data"
   ]
  },
  {
   "cell_type": "code",
   "execution_count": 12,
   "metadata": {
    "collapsed": false
   },
   "outputs": [],
   "source": [
    "import numpy as np\n",
    "import pandas as pd\n",
    "import bambi, os, glob"
   ]
  },
  {
   "cell_type": "code",
   "execution_count": 38,
   "metadata": {
    "collapsed": false
   },
   "outputs": [
    {
     "name": "stdout",
     "output_type": "stream",
     "text": [
      "/Users/egor/Dropbox/Projects/fc/fc/data/usable/extracted\n",
      "FC_cfs_sub01_20160915_1402_clean.csv\n",
      "number of subjects: 7\n",
      "current subject file number = 0\n",
      "current subject file number = 1\n",
      "current subject file number = 2\n",
      "current subject file number = 3\n",
      "current subject file number = 4\n",
      "current subject file number = 5\n",
      "current subject file number = 6\n",
      "(1680, 15)\n"
     ]
    },
    {
     "data": {
      "text/html": [
       "<div style=\"max-height:1000px;max-width:1500px;overflow:auto;\">\n",
       "<table border=\"1\" class=\"dataframe\">\n",
       "  <thead>\n",
       "    <tr style=\"text-align: right;\">\n",
       "      <th></th>\n",
       "      <th>subjId</th>\n",
       "      <th>domEyeR</th>\n",
       "      <th>threshStHi</th>\n",
       "      <th>threshStLo</th>\n",
       "      <th>thresh</th>\n",
       "      <th>trialN</th>\n",
       "      <th>sentId</th>\n",
       "      <th>sentPx</th>\n",
       "      <th>congr</th>\n",
       "      <th>fam</th>\n",
       "      <th>locTop</th>\n",
       "      <th>cued</th>\n",
       "      <th>crct</th>\n",
       "      <th>broken</th>\n",
       "      <th>st</th>\n",
       "    </tr>\n",
       "  </thead>\n",
       "  <tbody>\n",
       "    <tr>\n",
       "      <th>0</th>\n",
       "      <td> 1</td>\n",
       "      <td> 1</td>\n",
       "      <td> 0.24862</td>\n",
       "      <td> 0.2398</td>\n",
       "      <td> 0.24421</td>\n",
       "      <td> 1</td>\n",
       "      <td> 10</td>\n",
       "      <td> 124</td>\n",
       "      <td> 1</td>\n",
       "      <td> 0</td>\n",
       "      <td> 0</td>\n",
       "      <td> 0</td>\n",
       "      <td> 1</td>\n",
       "      <td> 1</td>\n",
       "      <td> 1.1426</td>\n",
       "    </tr>\n",
       "    <tr>\n",
       "      <th>1</th>\n",
       "      <td> 1</td>\n",
       "      <td> 1</td>\n",
       "      <td> 0.24862</td>\n",
       "      <td> 0.2398</td>\n",
       "      <td> 0.24421</td>\n",
       "      <td> 2</td>\n",
       "      <td> 15</td>\n",
       "      <td> 121</td>\n",
       "      <td> 0</td>\n",
       "      <td> 1</td>\n",
       "      <td> 1</td>\n",
       "      <td> 1</td>\n",
       "      <td> 1</td>\n",
       "      <td> 1</td>\n",
       "      <td> 1.7793</td>\n",
       "    </tr>\n",
       "    <tr>\n",
       "      <th>2</th>\n",
       "      <td> 1</td>\n",
       "      <td> 1</td>\n",
       "      <td> 0.24862</td>\n",
       "      <td> 0.2398</td>\n",
       "      <td> 0.24421</td>\n",
       "      <td> 3</td>\n",
       "      <td> 28</td>\n",
       "      <td> 100</td>\n",
       "      <td> 0</td>\n",
       "      <td> 0</td>\n",
       "      <td> 0</td>\n",
       "      <td> 0</td>\n",
       "      <td> 1</td>\n",
       "      <td> 1</td>\n",
       "      <td> 1.3451</td>\n",
       "    </tr>\n",
       "    <tr>\n",
       "      <th>3</th>\n",
       "      <td> 1</td>\n",
       "      <td> 1</td>\n",
       "      <td> 0.24862</td>\n",
       "      <td> 0.2398</td>\n",
       "      <td> 0.24421</td>\n",
       "      <td> 4</td>\n",
       "      <td> 28</td>\n",
       "      <td> 100</td>\n",
       "      <td> 0</td>\n",
       "      <td> 0</td>\n",
       "      <td> 1</td>\n",
       "      <td> 1</td>\n",
       "      <td> 1</td>\n",
       "      <td> 1</td>\n",
       "      <td> 1.4134</td>\n",
       "    </tr>\n",
       "    <tr>\n",
       "      <th>4</th>\n",
       "      <td> 1</td>\n",
       "      <td> 1</td>\n",
       "      <td> 0.24862</td>\n",
       "      <td> 0.2398</td>\n",
       "      <td> 0.24421</td>\n",
       "      <td> 5</td>\n",
       "      <td>  2</td>\n",
       "      <td> 133</td>\n",
       "      <td> 0</td>\n",
       "      <td> 1</td>\n",
       "      <td> 0</td>\n",
       "      <td> 0</td>\n",
       "      <td> 1</td>\n",
       "      <td> 1</td>\n",
       "      <td> 1.5021</td>\n",
       "    </tr>\n",
       "  </tbody>\n",
       "</table>\n",
       "</div>"
      ],
      "text/plain": [
       "   subjId  domEyeR  threshStHi  threshStLo   thresh  trialN  sentId  sentPx  \\\n",
       "0       1        1     0.24862      0.2398  0.24421       1      10     124   \n",
       "1       1        1     0.24862      0.2398  0.24421       2      15     121   \n",
       "2       1        1     0.24862      0.2398  0.24421       3      28     100   \n",
       "3       1        1     0.24862      0.2398  0.24421       4      28     100   \n",
       "4       1        1     0.24862      0.2398  0.24421       5       2     133   \n",
       "\n",
       "   congr  fam  locTop  cued  crct  broken      st  \n",
       "0      1    0       0     0     1       1  1.1426  \n",
       "1      0    1       1     1     1       1  1.7793  \n",
       "2      0    0       0     0     1       1  1.3451  \n",
       "3      0    0       1     1     1       1  1.4134  \n",
       "4      0    1       0     0     1       1  1.5021  "
      ]
     },
     "execution_count": 38,
     "metadata": {},
     "output_type": "execute_result"
    }
   ],
   "source": [
    "dataDir = os.path.abspath(os.path.join(os.getcwd(), '..', 'data/usable/extracted'))\n",
    "print dataDir\n",
    "allSubjFilePaths = glob.glob(dataDir + os.sep + 'FC_cfs*clean.csv')\n",
    "print os.path.basename(allSubjFilePaths[0])\n",
    "subjNum = len(allSubjFilePaths)\n",
    "print 'number of subjects: ' + str(subjNum)\n",
    "df = pd.DataFrame()\n",
    "for curSubjFileNum in range(subjNum):\n",
    "    print 'current subject file number = ' + str(curSubjFileNum)\n",
    "    ds = pd.read_csv(allSubjFilePaths[curSubjFileNum])\n",
    "    ds.columns = ['subjId', 'domEyeR', 'threshStHi', 'threshStLo', 'thresh', 'trialN',\n",
    "                  'sentId', 'sentPx', 'congr', 'fam', 'locTop', 'cued', 'crct', 'broken', 'st']\n",
    "    df = df.append(ds)\n",
    "print df.shape\n",
    "df.head(5)"
   ]
  },
  {
   "cell_type": "markdown",
   "metadata": {},
   "source": [
    "# Running the Bayesian mixed model"
   ]
  }
 ],
 "metadata": {
  "kernelspec": {
   "display_name": "Python 2",
   "language": "python",
   "name": "python2"
  },
  "language_info": {
   "codemirror_mode": {
    "name": "ipython",
    "version": 2
   },
   "file_extension": ".py",
   "mimetype": "text/x-python",
   "name": "python",
   "nbconvert_exporter": "python",
   "pygments_lexer": "ipython2",
   "version": "2.7.6"
  }
 },
 "nbformat": 4,
 "nbformat_minor": 1
}
