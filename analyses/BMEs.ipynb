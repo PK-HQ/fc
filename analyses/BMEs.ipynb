{
 "cells": [
  {
   "cell_type": "markdown",
   "metadata": {},
   "source": [
    "# Importing the data"
   ]
  },
  {
   "cell_type": "code",
   "execution_count": 5,
   "metadata": {
    "collapsed": false
   },
   "outputs": [],
   "source": [
    "%matplotlib inline\n",
    "import numpy as np\n",
    "import pandas as pd\n",
    "import bambi, os, glob\n",
    "import statsmodels as sm\n",
    "import statsmodels.formula.api as smf"
   ]
  },
  {
   "cell_type": "code",
   "execution_count": 6,
   "metadata": {
    "collapsed": false
   },
   "outputs": [
    {
     "name": "stdout",
     "output_type": "stream",
     "text": [
      "/Users/Egor/Dropbox/Projects/fc/fc/data/usable/extracted\n",
      "FC_cfs_sub01_20160915_1402_clean.csv\n",
      "number of subjects: 10\n",
      "current subject file number = 0\n",
      "current subject file number = 1\n",
      "current subject file number = 2\n",
      "current subject file number = 3\n",
      "current subject file number = 4\n",
      "current subject file number = 5\n",
      "current subject file number = 6\n",
      "current subject file number = 7\n",
      "current subject file number = 8\n",
      "current subject file number = 9\n",
      "(2400, 15)\n"
     ]
    },
    {
     "data": {
      "text/html": [
       "<div>\n",
       "<table border=\"1\" class=\"dataframe\">\n",
       "  <thead>\n",
       "    <tr style=\"text-align: right;\">\n",
       "      <th></th>\n",
       "      <th>subjId</th>\n",
       "      <th>domEyeR</th>\n",
       "      <th>threshStHi</th>\n",
       "      <th>threshStLo</th>\n",
       "      <th>thresh</th>\n",
       "      <th>trialN</th>\n",
       "      <th>sentId</th>\n",
       "      <th>sentPx</th>\n",
       "      <th>congr</th>\n",
       "      <th>fam</th>\n",
       "      <th>locTop</th>\n",
       "      <th>cued</th>\n",
       "      <th>crct</th>\n",
       "      <th>broken</th>\n",
       "      <th>st</th>\n",
       "    </tr>\n",
       "  </thead>\n",
       "  <tbody>\n",
       "    <tr>\n",
       "      <th>0</th>\n",
       "      <td>1</td>\n",
       "      <td>1</td>\n",
       "      <td>0.24862</td>\n",
       "      <td>0.2398</td>\n",
       "      <td>0.24421</td>\n",
       "      <td>1</td>\n",
       "      <td>10</td>\n",
       "      <td>124</td>\n",
       "      <td>1</td>\n",
       "      <td>0</td>\n",
       "      <td>0</td>\n",
       "      <td>0</td>\n",
       "      <td>1</td>\n",
       "      <td>1</td>\n",
       "      <td>1.1426</td>\n",
       "    </tr>\n",
       "    <tr>\n",
       "      <th>1</th>\n",
       "      <td>1</td>\n",
       "      <td>1</td>\n",
       "      <td>0.24862</td>\n",
       "      <td>0.2398</td>\n",
       "      <td>0.24421</td>\n",
       "      <td>2</td>\n",
       "      <td>15</td>\n",
       "      <td>121</td>\n",
       "      <td>0</td>\n",
       "      <td>1</td>\n",
       "      <td>1</td>\n",
       "      <td>1</td>\n",
       "      <td>1</td>\n",
       "      <td>1</td>\n",
       "      <td>1.7793</td>\n",
       "    </tr>\n",
       "    <tr>\n",
       "      <th>2</th>\n",
       "      <td>1</td>\n",
       "      <td>1</td>\n",
       "      <td>0.24862</td>\n",
       "      <td>0.2398</td>\n",
       "      <td>0.24421</td>\n",
       "      <td>3</td>\n",
       "      <td>28</td>\n",
       "      <td>100</td>\n",
       "      <td>0</td>\n",
       "      <td>0</td>\n",
       "      <td>0</td>\n",
       "      <td>0</td>\n",
       "      <td>1</td>\n",
       "      <td>1</td>\n",
       "      <td>1.3451</td>\n",
       "    </tr>\n",
       "    <tr>\n",
       "      <th>3</th>\n",
       "      <td>1</td>\n",
       "      <td>1</td>\n",
       "      <td>0.24862</td>\n",
       "      <td>0.2398</td>\n",
       "      <td>0.24421</td>\n",
       "      <td>4</td>\n",
       "      <td>28</td>\n",
       "      <td>100</td>\n",
       "      <td>0</td>\n",
       "      <td>0</td>\n",
       "      <td>1</td>\n",
       "      <td>1</td>\n",
       "      <td>1</td>\n",
       "      <td>1</td>\n",
       "      <td>1.4134</td>\n",
       "    </tr>\n",
       "    <tr>\n",
       "      <th>4</th>\n",
       "      <td>1</td>\n",
       "      <td>1</td>\n",
       "      <td>0.24862</td>\n",
       "      <td>0.2398</td>\n",
       "      <td>0.24421</td>\n",
       "      <td>5</td>\n",
       "      <td>2</td>\n",
       "      <td>133</td>\n",
       "      <td>0</td>\n",
       "      <td>1</td>\n",
       "      <td>0</td>\n",
       "      <td>0</td>\n",
       "      <td>1</td>\n",
       "      <td>1</td>\n",
       "      <td>1.5021</td>\n",
       "    </tr>\n",
       "  </tbody>\n",
       "</table>\n",
       "</div>"
      ],
      "text/plain": [
       "   subjId  domEyeR  threshStHi  threshStLo   thresh  trialN  sentId  sentPx  \\\n",
       "0       1        1     0.24862      0.2398  0.24421       1      10     124   \n",
       "1       1        1     0.24862      0.2398  0.24421       2      15     121   \n",
       "2       1        1     0.24862      0.2398  0.24421       3      28     100   \n",
       "3       1        1     0.24862      0.2398  0.24421       4      28     100   \n",
       "4       1        1     0.24862      0.2398  0.24421       5       2     133   \n",
       "\n",
       "   congr  fam  locTop  cued  crct  broken      st  \n",
       "0      1    0       0     0     1       1  1.1426  \n",
       "1      0    1       1     1     1       1  1.7793  \n",
       "2      0    0       0     0     1       1  1.3451  \n",
       "3      0    0       1     1     1       1  1.4134  \n",
       "4      0    1       0     0     1       1  1.5021  "
      ]
     },
     "execution_count": 6,
     "metadata": {},
     "output_type": "execute_result"
    }
   ],
   "source": [
    "dataDir = os.path.abspath(os.path.join(os.getcwd(), '..', 'data/usable/extracted'))\n",
    "print dataDir\n",
    "allSubjFilePaths = glob.glob(dataDir + os.sep + 'FC_cfs*clean.csv')\n",
    "print os.path.basename(allSubjFilePaths[0])\n",
    "subjNum = len(allSubjFilePaths)\n",
    "print 'number of subjects: ' + str(subjNum)\n",
    "df = pd.DataFrame()\n",
    "for curSubjFileNum in range(subjNum):\n",
    "    print 'current subject file number = ' + str(curSubjFileNum)\n",
    "    ds = pd.read_csv(allSubjFilePaths[curSubjFileNum])\n",
    "    ds.columns = ['subjId', 'domEyeR', 'threshStHi', 'threshStLo', 'thresh', 'trialN',\n",
    "                  'sentId', 'sentPx', 'congr', 'fam', 'locTop', 'cued', 'crct', 'broken', 'st']\n",
    "    df = df.append(ds)\n",
    "print df.shape\n",
    "df.head(5)"
   ]
  },
  {
   "cell_type": "markdown",
   "metadata": {},
   "source": [
    "## Centered data set"
   ]
  },
  {
   "cell_type": "code",
   "execution_count": 7,
   "metadata": {
    "collapsed": true
   },
   "outputs": [],
   "source": [
    "dfc = df\n",
    "dfc.ix[dfc['cued']==0,'cued'] = -1\n",
    "dfc.ix[dfc['fam']==0,'fam'] = -1\n",
    "dfc.ix[dfc['congr']==0,'congr'] = -1"
   ]
  },
  {
   "cell_type": "markdown",
   "metadata": {},
   "source": [
    "# Statistical models"
   ]
  },
  {
   "cell_type": "markdown",
   "metadata": {},
   "source": [
    "## Mixed linear regression"
   ]
  },
  {
   "cell_type": "code",
   "execution_count": 13,
   "metadata": {
    "collapsed": false
   },
   "outputs": [
    {
     "name": "stdout",
     "output_type": "stream",
     "text": [
      "               Mixed Linear Model Regression Results\n",
      "===================================================================\n",
      "Model:                 MixedLM    Dependent Variable:    st        \n",
      "No. Observations:      2400       Method:                REML      \n",
      "No. Groups:            10         Scale:                 0.3840    \n",
      "Min. group size:       240        Likelihood:            -2354.2633\n",
      "Max. group size:       240        Converged:             Yes       \n",
      "Mean group size:       240.0                                       \n",
      "-------------------------------------------------------------------\n",
      "                         Coef.  Std.Err.   z    P>|z| [0.025 0.975]\n",
      "-------------------------------------------------------------------\n",
      "Intercept                 1.549    0.196  7.897 0.000  1.165  1.934\n",
      "congr                     0.009    0.013  0.689 0.491 -0.016  0.033\n",
      "fam                       0.020    0.013  1.553 0.121 -0.005  0.044\n",
      "congr:fam                 0.013    0.013  1.003 0.316 -0.012  0.037\n",
      "cued                     -0.015    0.012 -1.235 0.217 -0.039  0.009\n",
      "congr:cued               -0.021    0.013 -1.683 0.092 -0.046  0.004\n",
      "fam:cued                 -0.007    0.013 -0.535 0.592 -0.032  0.018\n",
      "congr:fam:cued            0.001    0.013  0.068 0.946 -0.024  0.026\n",
      "Intercept RE              0.384                                    \n",
      "Intercept RE x sentId RE  0.000                                    \n",
      "sentId RE                 0.384                                    \n",
      "===================================================================\n",
      "\n"
     ]
    },
    {
     "name": "stderr",
     "output_type": "stream",
     "text": [
      "/Library/Python/2.7/site-packages/statsmodels/base/model.py:466: ConvergenceWarning: Maximum Likelihood optimization failed to converge. Check mle_retvals\n",
      "  \"Check mle_retvals\", ConvergenceWarning)\n"
     ]
    }
   ],
   "source": [
    "md = smf.mixedlm('st ~ congr * fam * cued', dfc, re_formula='sentId', groups=dfc['subjId'])\n",
    "mdf = md.fit()\n",
    "print(mdf.summary())"
   ]
  },
  {
   "cell_type": "markdown",
   "metadata": {},
   "source": [
    "## Running the Bayesian mixed model"
   ]
  },
  {
   "cell_type": "code",
   "execution_count": 15,
   "metadata": {
    "collapsed": false
   },
   "outputs": [
    {
     "name": "stderr",
     "output_type": "stream",
     "text": [
      "Applied log-transform to u_subjId_sd and added transformed u_subjId_sd_log_ to model.\n",
      "INFO:pymc3:Applied log-transform to u_subjId_sd and added transformed u_subjId_sd_log_ to model.\n",
      "Applied interval-transform to st_sd and added transformed st_sd_interval_ to model.\n",
      "INFO:pymc3:Applied interval-transform to st_sd and added transformed st_sd_interval_ to model.\n",
      "Assigned NUTS to b_Intercept\n",
      "INFO:pymc3:Assigned NUTS to b_Intercept\n",
      "Assigned NUTS to b_congr\n",
      "INFO:pymc3:Assigned NUTS to b_congr\n",
      "Assigned NUTS to b_fam\n",
      "INFO:pymc3:Assigned NUTS to b_fam\n",
      "Assigned NUTS to b_congr:fam\n",
      "INFO:pymc3:Assigned NUTS to b_congr:fam\n",
      "Assigned NUTS to b_cued\n",
      "INFO:pymc3:Assigned NUTS to b_cued\n",
      "Assigned NUTS to b_congr:cued\n",
      "INFO:pymc3:Assigned NUTS to b_congr:cued\n",
      "Assigned NUTS to b_fam:cued\n",
      "INFO:pymc3:Assigned NUTS to b_fam:cued\n",
      "Assigned NUTS to b_congr:fam:cued\n",
      "INFO:pymc3:Assigned NUTS to b_congr:fam:cued\n",
      "Assigned NUTS to u_subjId_sd_log_\n",
      "INFO:pymc3:Assigned NUTS to u_subjId_sd_log_\n",
      "Assigned NUTS to u_subjId\n",
      "INFO:pymc3:Assigned NUTS to u_subjId\n",
      "Assigned NUTS to st_sd_interval_\n",
      "INFO:pymc3:Assigned NUTS to st_sd_interval_\n"
     ]
    },
    {
     "ename": "PositiveDefiniteError",
     "evalue": "Scaling is not positive definite. Simple check failed. Diagonal contains negatives. Check indexes [11 19]",
     "output_type": "error",
     "traceback": [
      "\u001b[0;31m---------------------------------------------------------------------------\u001b[0m",
      "\u001b[0;31mPositiveDefiniteError\u001b[0m                     Traceback (most recent call last)",
      "\u001b[0;32m<ipython-input-15-51e556312f3a>\u001b[0m in \u001b[0;36m<module>\u001b[0;34m()\u001b[0m\n\u001b[1;32m      1\u001b[0m \u001b[0mbmd\u001b[0m \u001b[0;34m=\u001b[0m \u001b[0mbambi\u001b[0m\u001b[0;34m.\u001b[0m\u001b[0mModel\u001b[0m\u001b[0;34m(\u001b[0m\u001b[0mdf\u001b[0m\u001b[0;34m)\u001b[0m\u001b[0;34m\u001b[0m\u001b[0m\n\u001b[1;32m      2\u001b[0m modelFitted = bmd.fit('st ~ congr * fam * cued', samples=200,\n\u001b[0;32m----> 3\u001b[0;31m                         random=['1|subjId'], njobs=1)\n\u001b[0m\u001b[1;32m      4\u001b[0m \u001b[0mmodelFitted\u001b[0m\u001b[0;34m.\u001b[0m\u001b[0mplot\u001b[0m\u001b[0;34m(\u001b[0m\u001b[0mburn_in\u001b[0m\u001b[0;34m=\u001b[0m\u001b[0;36m50\u001b[0m\u001b[0;34m)\u001b[0m\u001b[0;34m\u001b[0m\u001b[0m\n",
      "\u001b[0;32m/Library/Python/2.7/site-packages/bambi/models.pyc\u001b[0m in \u001b[0;36mfit\u001b[0;34m(self, fixed, random, priors, family, link, run, categorical, **kwargs)\u001b[0m\n\u001b[1;32m    253\u001b[0m                               \"building it first before sampling begins.\")\n\u001b[1;32m    254\u001b[0m                 \u001b[0mself\u001b[0m\u001b[0;34m.\u001b[0m\u001b[0mbuild\u001b[0m\u001b[0;34m(\u001b[0m\u001b[0;34m)\u001b[0m\u001b[0;34m\u001b[0m\u001b[0m\n\u001b[0;32m--> 255\u001b[0;31m             \u001b[0;32mreturn\u001b[0m \u001b[0mself\u001b[0m\u001b[0;34m.\u001b[0m\u001b[0mbackend\u001b[0m\u001b[0;34m.\u001b[0m\u001b[0mrun\u001b[0m\u001b[0;34m(\u001b[0m\u001b[0;34m**\u001b[0m\u001b[0mkwargs\u001b[0m\u001b[0;34m)\u001b[0m\u001b[0;34m\u001b[0m\u001b[0m\n\u001b[0m\u001b[1;32m    256\u001b[0m \u001b[0;34m\u001b[0m\u001b[0m\n\u001b[1;32m    257\u001b[0m     \u001b[0;32mdef\u001b[0m \u001b[0madd_intercept\u001b[0m\u001b[0;34m(\u001b[0m\u001b[0mself\u001b[0m\u001b[0;34m)\u001b[0m\u001b[0;34m:\u001b[0m\u001b[0;34m\u001b[0m\u001b[0m\n",
      "\u001b[0;32m/Library/Python/2.7/site-packages/bambi/backends.pyc\u001b[0m in \u001b[0;36mrun\u001b[0;34m(self, start, method, find_map, **kwargs)\u001b[0m\n\u001b[1;32m    144\u001b[0m                 \u001b[0;32mif\u001b[0m \u001b[0mstart\u001b[0m \u001b[0;32mis\u001b[0m \u001b[0mNone\u001b[0m \u001b[0;32mand\u001b[0m \u001b[0mfind_map\u001b[0m\u001b[0;34m:\u001b[0m\u001b[0;34m\u001b[0m\u001b[0m\n\u001b[1;32m    145\u001b[0m                     \u001b[0mstart\u001b[0m \u001b[0;34m=\u001b[0m \u001b[0mpm\u001b[0m\u001b[0;34m.\u001b[0m\u001b[0mfind_MAP\u001b[0m\u001b[0;34m(\u001b[0m\u001b[0;34m)\u001b[0m\u001b[0;34m\u001b[0m\u001b[0m\n\u001b[0;32m--> 146\u001b[0;31m                 \u001b[0mself\u001b[0m\u001b[0;34m.\u001b[0m\u001b[0mtrace\u001b[0m \u001b[0;34m=\u001b[0m \u001b[0mpm\u001b[0m\u001b[0;34m.\u001b[0m\u001b[0msample\u001b[0m\u001b[0;34m(\u001b[0m\u001b[0msamples\u001b[0m\u001b[0;34m,\u001b[0m \u001b[0mstart\u001b[0m\u001b[0;34m=\u001b[0m\u001b[0mstart\u001b[0m\u001b[0;34m,\u001b[0m \u001b[0;34m**\u001b[0m\u001b[0mkwargs\u001b[0m\u001b[0;34m)\u001b[0m\u001b[0;34m\u001b[0m\u001b[0m\n\u001b[0m\u001b[1;32m    147\u001b[0m             \u001b[0;32mreturn\u001b[0m \u001b[0mPyMC3Results\u001b[0m\u001b[0;34m(\u001b[0m\u001b[0mself\u001b[0m\u001b[0;34m.\u001b[0m\u001b[0mspec\u001b[0m\u001b[0;34m,\u001b[0m \u001b[0mself\u001b[0m\u001b[0;34m.\u001b[0m\u001b[0mtrace\u001b[0m\u001b[0;34m)\u001b[0m\u001b[0;34m\u001b[0m\u001b[0m\n\u001b[1;32m    148\u001b[0m \u001b[0;34m\u001b[0m\u001b[0m\n",
      "\u001b[0;32m/Library/Python/2.7/site-packages/pymc3/sampling.pyc\u001b[0m in \u001b[0;36msample\u001b[0;34m(draws, step, start, trace, chain, njobs, tune, progressbar, model, random_seed)\u001b[0m\n\u001b[1;32m    133\u001b[0m     \u001b[0mmodel\u001b[0m \u001b[0;34m=\u001b[0m \u001b[0mmodelcontext\u001b[0m\u001b[0;34m(\u001b[0m\u001b[0mmodel\u001b[0m\u001b[0;34m)\u001b[0m\u001b[0;34m\u001b[0m\u001b[0m\n\u001b[1;32m    134\u001b[0m \u001b[0;34m\u001b[0m\u001b[0m\n\u001b[0;32m--> 135\u001b[0;31m     \u001b[0mstep\u001b[0m \u001b[0;34m=\u001b[0m \u001b[0massign_step_methods\u001b[0m\u001b[0;34m(\u001b[0m\u001b[0mmodel\u001b[0m\u001b[0;34m,\u001b[0m \u001b[0mstep\u001b[0m\u001b[0;34m)\u001b[0m\u001b[0;34m\u001b[0m\u001b[0m\n\u001b[0m\u001b[1;32m    136\u001b[0m \u001b[0;34m\u001b[0m\u001b[0m\n\u001b[1;32m    137\u001b[0m     \u001b[0;32mif\u001b[0m \u001b[0mnjobs\u001b[0m \u001b[0;32mis\u001b[0m \u001b[0mNone\u001b[0m\u001b[0;34m:\u001b[0m\u001b[0;34m\u001b[0m\u001b[0m\n",
      "\u001b[0;32m/Library/Python/2.7/site-packages/pymc3/sampling.pyc\u001b[0m in \u001b[0;36massign_step_methods\u001b[0;34m(model, step, methods)\u001b[0m\n\u001b[1;32m     74\u001b[0m \u001b[0;34m\u001b[0m\u001b[0m\n\u001b[1;32m     75\u001b[0m     \u001b[0;31m# Instantiate all selected step methods\u001b[0m\u001b[0;34m\u001b[0m\u001b[0;34m\u001b[0m\u001b[0m\n\u001b[0;32m---> 76\u001b[0;31m     \u001b[0msteps\u001b[0m \u001b[0;34m+=\u001b[0m \u001b[0;34m[\u001b[0m\u001b[0mstep\u001b[0m\u001b[0;34m(\u001b[0m\u001b[0mvars\u001b[0m\u001b[0;34m=\u001b[0m\u001b[0mselected_steps\u001b[0m\u001b[0;34m[\u001b[0m\u001b[0mstep\u001b[0m\u001b[0;34m]\u001b[0m\u001b[0;34m)\u001b[0m \u001b[0;32mfor\u001b[0m \u001b[0mstep\u001b[0m \u001b[0;32min\u001b[0m \u001b[0mselected_steps\u001b[0m \u001b[0;32mif\u001b[0m \u001b[0mselected_steps\u001b[0m\u001b[0;34m[\u001b[0m\u001b[0mstep\u001b[0m\u001b[0;34m]\u001b[0m\u001b[0;34m]\u001b[0m\u001b[0;34m\u001b[0m\u001b[0m\n\u001b[0m\u001b[1;32m     77\u001b[0m \u001b[0;34m\u001b[0m\u001b[0m\n\u001b[1;32m     78\u001b[0m     \u001b[0;32mif\u001b[0m \u001b[0mlen\u001b[0m\u001b[0;34m(\u001b[0m\u001b[0msteps\u001b[0m\u001b[0;34m)\u001b[0m \u001b[0;34m==\u001b[0m \u001b[0;36m1\u001b[0m\u001b[0;34m:\u001b[0m\u001b[0;34m\u001b[0m\u001b[0m\n",
      "\u001b[0;32m/Library/Python/2.7/site-packages/pymc3/step_methods/nuts.pyc\u001b[0m in \u001b[0;36m__init__\u001b[0;34m(self, vars, scaling, step_scale, is_cov, state, Emax, target_accept, gamma, k, t0, model, profile, **kwargs)\u001b[0m\n\u001b[1;32m     76\u001b[0m         \u001b[0mself\u001b[0m\u001b[0;34m.\u001b[0m\u001b[0mstep_size\u001b[0m \u001b[0;34m=\u001b[0m \u001b[0mstep_scale\u001b[0m \u001b[0;34m/\u001b[0m \u001b[0mn\u001b[0m\u001b[0;34m**\u001b[0m\u001b[0;34m(\u001b[0m\u001b[0;36m1\u001b[0m \u001b[0;34m/\u001b[0m \u001b[0;36m4.\u001b[0m\u001b[0;34m)\u001b[0m\u001b[0;34m\u001b[0m\u001b[0m\n\u001b[1;32m     77\u001b[0m \u001b[0;34m\u001b[0m\u001b[0m\n\u001b[0;32m---> 78\u001b[0;31m         \u001b[0mself\u001b[0m\u001b[0;34m.\u001b[0m\u001b[0mpotential\u001b[0m \u001b[0;34m=\u001b[0m \u001b[0mquad_potential\u001b[0m\u001b[0;34m(\u001b[0m\u001b[0mscaling\u001b[0m\u001b[0;34m,\u001b[0m \u001b[0mis_cov\u001b[0m\u001b[0;34m,\u001b[0m \u001b[0mas_cov\u001b[0m\u001b[0;34m=\u001b[0m\u001b[0mFalse\u001b[0m\u001b[0;34m)\u001b[0m\u001b[0;34m\u001b[0m\u001b[0m\n\u001b[0m\u001b[1;32m     79\u001b[0m \u001b[0;34m\u001b[0m\u001b[0m\n\u001b[1;32m     80\u001b[0m         \u001b[0;32mif\u001b[0m \u001b[0mstate\u001b[0m \u001b[0;32mis\u001b[0m \u001b[0mNone\u001b[0m\u001b[0;34m:\u001b[0m\u001b[0;34m\u001b[0m\u001b[0m\n",
      "\u001b[0;32m/Library/Python/2.7/site-packages/pymc3/step_methods/quadpotential.pyc\u001b[0m in \u001b[0;36mquad_potential\u001b[0;34m(C, is_cov, as_cov)\u001b[0m\n\u001b[1;32m     34\u001b[0m         \u001b[0;32mreturn\u001b[0m \u001b[0mQuadPotential_SparseInv\u001b[0m\u001b[0;34m(\u001b[0m\u001b[0mC\u001b[0m\u001b[0;34m)\u001b[0m\u001b[0;34m\u001b[0m\u001b[0m\n\u001b[1;32m     35\u001b[0m \u001b[0;34m\u001b[0m\u001b[0m\n\u001b[0;32m---> 36\u001b[0;31m     \u001b[0mpartial_check_positive_definite\u001b[0m\u001b[0;34m(\u001b[0m\u001b[0mC\u001b[0m\u001b[0;34m)\u001b[0m\u001b[0;34m\u001b[0m\u001b[0m\n\u001b[0m\u001b[1;32m     37\u001b[0m     \u001b[0;32mif\u001b[0m \u001b[0mC\u001b[0m\u001b[0;34m.\u001b[0m\u001b[0mndim\u001b[0m \u001b[0;34m==\u001b[0m \u001b[0;36m1\u001b[0m\u001b[0;34m:\u001b[0m\u001b[0;34m\u001b[0m\u001b[0m\n\u001b[1;32m     38\u001b[0m         \u001b[0;32mif\u001b[0m \u001b[0mis_cov\u001b[0m \u001b[0;34m!=\u001b[0m \u001b[0mas_cov\u001b[0m\u001b[0;34m:\u001b[0m\u001b[0;34m\u001b[0m\u001b[0m\n",
      "\u001b[0;32m/Library/Python/2.7/site-packages/pymc3/step_methods/quadpotential.pyc\u001b[0m in \u001b[0;36mpartial_check_positive_definite\u001b[0;34m(C)\u001b[0m\n\u001b[1;32m     57\u001b[0m     \u001b[0;32mif\u001b[0m \u001b[0mlen\u001b[0m\u001b[0;34m(\u001b[0m\u001b[0mi\u001b[0m\u001b[0;34m)\u001b[0m\u001b[0;34m:\u001b[0m\u001b[0;34m\u001b[0m\u001b[0m\n\u001b[1;32m     58\u001b[0m         raise PositiveDefiniteError(\n\u001b[0;32m---> 59\u001b[0;31m             \"Simple check failed. Diagonal contains negatives\", i)\n\u001b[0m\u001b[1;32m     60\u001b[0m \u001b[0;34m\u001b[0m\u001b[0m\n\u001b[1;32m     61\u001b[0m \u001b[0;34m\u001b[0m\u001b[0m\n",
      "\u001b[0;31mPositiveDefiniteError\u001b[0m: Scaling is not positive definite. Simple check failed. Diagonal contains negatives. Check indexes [11 19]"
     ]
    }
   ],
   "source": [
    "bmd = bambi.Model(df)\n",
    "modelFitted = bmd.fit('st ~ congr * fam * cued', samples=200,\n",
    "                        random=['1|subjId'], njobs=1)\n",
    "modelFitted.plot(burn_in=50)"
   ]
  }
 ],
 "metadata": {
  "anaconda-cloud": {},
  "kernelspec": {
   "display_name": "Python 2",
   "language": "python",
   "name": "python2"
  },
  "language_info": {
   "codemirror_mode": {
    "name": "ipython",
    "version": 2
   },
   "file_extension": ".py",
   "mimetype": "text/x-python",
   "name": "python",
   "nbconvert_exporter": "python",
   "pygments_lexer": "ipython2",
   "version": "2.7.10"
  }
 },
 "nbformat": 4,
 "nbformat_minor": 1
}
